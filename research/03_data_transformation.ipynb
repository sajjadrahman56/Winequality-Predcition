{
 "cells": [
  {
   "cell_type": "code",
   "execution_count": 1,
   "metadata": {},
   "outputs": [],
   "source": [
    "import os"
   ]
  },
  {
   "cell_type": "code",
   "execution_count": 2,
   "metadata": {},
   "outputs": [
    {
     "data": {
      "text/plain": [
       "'h:\\\\Winequality-Predcition\\\\research'"
      ]
     },
     "execution_count": 2,
     "metadata": {},
     "output_type": "execute_result"
    }
   ],
   "source": [
    "%pwd "
   ]
  },
  {
   "cell_type": "code",
   "execution_count": 3,
   "metadata": {},
   "outputs": [],
   "source": [
    "os.chdir(\"../\")"
   ]
  },
  {
   "cell_type": "code",
   "execution_count": 4,
   "metadata": {},
   "outputs": [
    {
     "data": {
      "text/plain": [
       "'h:\\\\Winequality-Predcition'"
      ]
     },
     "execution_count": 4,
     "metadata": {},
     "output_type": "execute_result"
    }
   ],
   "source": [
    "%pwd "
   ]
  },
  {
   "cell_type": "code",
   "execution_count": 5,
   "metadata": {},
   "outputs": [],
   "source": [
    "from dataclasses import dataclass\n",
    "from pathlib import Path\n",
    "\n",
    "@dataclass(frozen=True)\n",
    "class DataTransformationConfig:\n",
    "    root_dir: Path\n",
    "    data_path: Path\n"
   ]
  },
  {
   "cell_type": "code",
   "execution_count": 6,
   "metadata": {},
   "outputs": [],
   "source": [
    "from src.wine_quality.constants import *\n",
    "from src.wine_quality.utils.common import read_yaml,create_directories"
   ]
  },
  {
   "cell_type": "code",
   "execution_count": 7,
   "metadata": {},
   "outputs": [],
   "source": [
    "class ConfigurationManager:\n",
    "    def __init__(\n",
    "        self,\n",
    "        config_filepath = CONFIG_FILE_PATH,\n",
    "        params_filepath = PARAMS_FILE_PATH,\n",
    "        schema_filepath = SCHEMA_FILE_PATH):\n",
    "\n",
    "        self.config = read_yaml(config_filepath)\n",
    "        self.params = read_yaml(params_filepath)\n",
    "        self.schema = read_yaml(schema_filepath)\n",
    "\n",
    "        create_directories([self.config.artifacts_root])\n",
    "    \n",
    "    def get_data_transformation_config(self)->DataTransformationConfig:\n",
    "        config = self.config.data_transformation\n",
    "        create_directories([config.root_dir])\n",
    "\n",
    "        data_transformer_config =  DataTransformationConfig(\n",
    "            root_dir = config.root_dir,\n",
    "            data_path = config.data_path\n",
    "        )\n",
    "\n",
    "        return data_transformer_config"
   ]
  },
  {
   "cell_type": "markdown",
   "metadata": {},
   "source": [
    "### Trasnformer Component"
   ]
  },
  {
   "cell_type": "code",
   "execution_count": 8,
   "metadata": {},
   "outputs": [],
   "source": [
    "from src.wine_quality.logging import logger\n",
    "from sklearn.model_selection import train_test_split as tts\n",
    "import pandas as pd"
   ]
  },
  {
   "cell_type": "code",
   "execution_count": 9,
   "metadata": {},
   "outputs": [],
   "source": [
    "from sklearn.preprocessing import MinMaxScaler\n",
    "import pandas as pd\n",
    "from sklearn.model_selection import train_test_split as tts\n",
    " \n",
    "class DataTransformation:\n",
    "    def __init__(self, config: DataTransformationConfig):\n",
    "        self.config = config\n",
    "\n",
    "    # Shuffle the data\n",
    "    def preprocess_data(self, data: pd.DataFrame) -> pd.DataFrame:\n",
    "        data = data.sample(frac=1, random_state=42).reset_index(drop=True)\n",
    "        logger.info(\"Data has been shuffled.\")\n",
    "        \n",
    "        data = data.drop_duplicates()\n",
    "        logger.info(f\"Removed duplicates. Shape: {data.shape}\")\n",
    "        \n",
    "        data = data.dropna()\n",
    "        logger.info(f\"Removed null values. Shape after removing nulls: {data.shape}\")\n",
    "        \n",
    "        return data\n",
    "\n",
    "    # MinMaxScaler\n",
    "    def scale_data(self, data: pd.DataFrame) -> pd.DataFrame:\n",
    "        scaler = MinMaxScaler()  \n",
    "        numeric_columns = data.select_dtypes(include=[\"float64\", \"int64\"]).columns\n",
    "        data[numeric_columns] = scaler.fit_transform(data[numeric_columns])\n",
    "        logger.info(\"Data has been scaled using MinMaxScaler (range 0-1).\")\n",
    "        \n",
    "        return data\n",
    "\n",
    "    # Train-test split method\n",
    "    def train_test_datasplit(self):\n",
    "        data = pd.read_csv(self.config.data_path)\n",
    "        \n",
    "        # Preprocess and scale data\n",
    "        data = self.preprocess_data(data)\n",
    "        data = self.scale_data(data)\n",
    "\n",
    "        # Split into train and test sets\n",
    "        train, test = tts(data, test_size=0.2, random_state=42)\n",
    "        \n",
    "        # Save train and test data\n",
    "        train.to_csv(os.path.join(self.config.root_dir, \"train.csv\"), index=False)\n",
    "        test.to_csv(os.path.join(self.config.root_dir, \"test.csv\"), index=False)\n",
    "\n",
    "        # Logging the details\n",
    "        logger.info(f\"Train shape: {train.shape}, Test shape: {test.shape}\")\n",
    "        print(f\"Train shape: {train.shape}, Test shape: {test.shape}\")"
   ]
  },
  {
   "cell_type": "code",
   "execution_count": 10,
   "metadata": {},
   "outputs": [
    {
     "name": "stdout",
     "output_type": "stream",
     "text": [
      "[2024-09-22 12:58:51,294 : INFO : common : yaml file: config\\config.yaml loaded successfully ]\n",
      "[2024-09-22 12:58:51,298 : INFO : common : yaml file: params.yaml loaded successfully ]\n",
      "[2024-09-22 12:58:51,301 : INFO : common : yaml file: schema.yaml loaded successfully ]\n",
      "[2024-09-22 12:58:51,306 : INFO : common : created directory at: artifacts ]\n",
      "[2024-09-22 12:58:51,308 : INFO : common : created directory at: artifacts/data_transformation ]\n",
      "[2024-09-22 12:58:51,410 : INFO : 802715402 : Data has been shuffled. ]\n",
      "[2024-09-22 12:58:51,521 : INFO : 802715402 : Removed duplicates. Shape: (1359, 12) ]\n",
      "[2024-09-22 12:58:51,523 : INFO : 802715402 : Removed null values. Shape after removing nulls: (1359, 12) ]\n",
      "[2024-09-22 12:58:51,593 : INFO : 802715402 : Data has been scaled using MinMaxScaler (range 0-1). ]\n",
      "[2024-09-22 12:58:51,641 : INFO : 802715402 : Train shape: (1087, 12), Test shape: (272, 12) ]\n",
      "Train shape: (1087, 12), Test shape: (272, 12)\n"
     ]
    }
   ],
   "source": [
    "try:\n",
    "    config = ConfigurationManager()\n",
    "    data_transformation_config = config.get_data_transformation_config()  # Ensure this method exists and works\n",
    "    data_transformation = DataTransformation(data_transformation_config)\n",
    "    \n",
    "    # Running the full pipeline\n",
    "    data_transformation.train_test_datasplit()\n",
    "\n",
    "except Exception as e:\n",
    "    logger.error(f\"Error occurred: {e}\")\n",
    "    raise e"
   ]
  }
 ],
 "metadata": {
  "kernelspec": {
   "display_name": "venv",
   "language": "python",
   "name": "python3"
  },
  "language_info": {
   "codemirror_mode": {
    "name": "ipython",
    "version": 3
   },
   "file_extension": ".py",
   "mimetype": "text/x-python",
   "name": "python",
   "nbconvert_exporter": "python",
   "pygments_lexer": "ipython3",
   "version": "3.12.3"
  }
 },
 "nbformat": 4,
 "nbformat_minor": 2
}
